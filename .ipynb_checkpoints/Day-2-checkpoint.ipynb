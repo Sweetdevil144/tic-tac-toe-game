{
 "cells": [
  {
   "cell_type": "markdown",
   "id": "4a55bd3b",
   "metadata": {},
   "source": [
    "## Intro to Python : Day 2"
   ]
  },
  {
   "cell_type": "code",
   "execution_count": 5,
   "id": "a1d455b4",
   "metadata": {},
   "outputs": [],
   "source": [
    "def func():\n",
    "    "
   ]
  },
  {
   "cell_type": "code",
   "execution_count": null,
   "id": "c01bd2ad",
   "metadata": {},
   "outputs": [],
   "source": []
  }
 ],
 "metadata": {
  "kernelspec": {
   "display_name": "Python 3 (ipykernel)",
   "language": "python",
   "name": "python3"
  },
  "language_info": {
   "codemirror_mode": {
    "name": "ipython",
    "version": 3
   },
   "file_extension": ".py",
   "mimetype": "text/x-python",
   "name": "python",
   "nbconvert_exporter": "python",
   "pygments_lexer": "ipython3",
   "version": "3.10.9"
  }
 },
 "nbformat": 4,
 "nbformat_minor": 5
}
